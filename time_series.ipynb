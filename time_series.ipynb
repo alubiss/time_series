{
 "cells": [
  {
   "cell_type": "code",
   "execution_count": null,
   "id": "aa68bb1e-27ae-487c-b174-9a24cb875ecb",
   "metadata": {},
   "outputs": [],
   "source": [
    "import pandas as pd\n",
    "import numpy as np\n",
    "import feature_engine\n",
    "import os\n",
    "import matplotlib.pyplot as plt\n",
    "from tqdm import tqdm_notebook\n",
    "import seaborn as sns\n",
    "sns.set()\n",
    "from sklearn.metrics import r2_score, median_absolute_error, mean_absolute_error\n",
    "from sklearn.metrics import median_absolute_error, mean_squared_error, mean_squared_log_error\n",
    "from itertools import product\n",
    "\n",
    "from scipy.optimize import minimize\n",
    "import statsmodels.tsa.api as smt\n",
    "import statsmodels.api as sm\n",
    "\n",
    "import warnings\n",
    "warnings.filterwarnings(\"ignore\")\n",
    "pd.set_option('display.float_format', lambda x: '%.3f' % x)"
   ]
  },
  {
   "cell_type": "markdown",
   "id": "5449c8af-5c45-4108-bd22-172bdb901520",
   "metadata": {},
   "source": [
    "# Spis treści\n",
    "* [1. Exploratory Data Analysis](#eda)\n",
    "* [2. SARIMA](#sarima)\n",
    "* [3. Modele autoregresyjne](#auto_reg)\n",
    "* [3.1. Podział zbioru na zbiór treningowy i testowy](#test_train_split)\n",
    "* [3.2. XGboost, Random Forest - autoregresyjne](#auto_reg_ml)\n",
    "* [4. Feature engineering](#FE_all)\n",
    "* [4.1. Zamówienia klienta](#FE_cli)\n",
    "* [4.2. Dane dot. realnych realizacji usługi](#FE_sales)\n",
    "* [4.3. Dane kalendarzowe](#FE_calendar)\n",
    "* [4.3. Dane pogodowe](#FE_pogodowe)\n",
    "* [5. Trening modelu](#model_fin)\n",
    "* [6. Zestawienie wyników prognoz](#comparison)\n",
    "* [7. Pomysły na ulepszenie algorytmu ](#poprawa)"
   ]
  },
  {
   "cell_type": "markdown",
   "id": "6b4f54df-e329-4a49-8b04-cc2e45b9ecc6",
   "metadata": {},
   "source": [
    "<a id=\"eda\"></a>\n",
    "# 1. Exploratory Data Analysis"
   ]
  },
  {
   "cell_type": "code",
   "execution_count": null,
   "id": "ab32fe87-fe88-46a4-9e57-0520dc36b36e",
   "metadata": {},
   "outputs": [],
   "source": [
    "data = pd.read_csv(\"data/dimDates_Task.csv\", sep=\";\", index_col=['dateId'], parse_dates=['dateId'])\n",
    "data.head()"
   ]
  },
  {
   "cell_type": "code",
   "execution_count": null,
   "id": "e57f1aa5-8ceb-4e3b-89e0-e176d9c60108",
   "metadata": {},
   "outputs": [],
   "source": [
    "# liczba nadań\n",
    "volumes_df = pd.read_parquet('data/Posting_Volumes')\n",
    "volumes_df['postingDateFk'] = pd.to_datetime(volumes_df['postingDateFk'], format='%Y%m%d')\n",
    "volumes_df.set_index('postingDateFk', inplace=True)\n",
    "volumes_df.sort_values(by='postingDateFk', ascending=False).head()"
   ]
  },
  {
   "cell_type": "code",
   "execution_count": null,
   "id": "1a92d77f-c5bd-4835-82b0-66651aed5e5d",
   "metadata": {},
   "outputs": [],
   "source": [
    "volumes_df.Customer.value_counts()"
   ]
  },
  {
   "cell_type": "code",
   "execution_count": null,
   "id": "72bab936-c99e-4e62-8d30-4f1b26aff36b",
   "metadata": {},
   "outputs": [],
   "source": [
    "volumes_df.Product.value_counts()"
   ]
  },
  {
   "cell_type": "code",
   "execution_count": null,
   "id": "36e636d3-2fae-4732-8ac3-3d4f19cbee15",
   "metadata": {},
   "outputs": [],
   "source": [
    "volumes_df.Volume.describe()"
   ]
  },
  {
   "cell_type": "code",
   "execution_count": null,
   "id": "a304b72d-74a5-4435-8c1b-f16473215f8b",
   "metadata": {},
   "outputs": [],
   "source": [
    "volumes_df = volumes_df.query(\"postingDateFk >= '2023-01-01'\")\n",
    "volumes_df = volumes_df.query(\"Customer == 'X'\")"
   ]
  },
  {
   "cell_type": "code",
   "execution_count": null,
   "id": "70ac68f1-76f4-465f-bfe9-ce01909eb482",
   "metadata": {},
   "outputs": [],
   "source": [
    "volumes_df_test = volumes_df.query(\"postingDateFk >= '2023-08-01'\")\n",
    "volumes_df_test = volumes_df_test[['Volume']].groupby('postingDateFk').sum()\n",
    "volumes_df = volumes_df.query(\"postingDateFk < '2023-08-01'\")"
   ]
  },
  {
   "cell_type": "code",
   "execution_count": null,
   "id": "28136115-dede-4913-bfbc-4f5be4419c77",
   "metadata": {},
   "outputs": [],
   "source": [
    "orders_df = pd.read_excel('data/X_ClientORDERS.xlsx')\n",
    "orders_df['DateId'] = pd.to_datetime(orders_df['DateId'], format='%Y%m%d')\n",
    "orders_df.set_index('DateId', inplace=True)\n",
    "orders_df.head()"
   ]
  },
  {
   "cell_type": "code",
   "execution_count": null,
   "id": "0ee02c14-d499-422e-ba1f-37a5a01c352b",
   "metadata": {},
   "outputs": [],
   "source": [
    "grouped_sum = volumes_df[['Volume']].groupby('postingDateFk').sum()\n",
    "merged_df = grouped_sum.merge(orders_df, left_index=True, right_index=True, how='left')"
   ]
  },
  {
   "cell_type": "code",
   "execution_count": null,
   "id": "0c9b34d4-b586-4f49-ba38-e9591739585d",
   "metadata": {},
   "outputs": [],
   "source": [
    "plt.figure(figsize=(17, 8))\n",
    "plt.plot(merged_df.index, merged_df['Volume'], label='Volume Real')\n",
    "plt.plot(merged_df.index, merged_df['Orders'], label='Orders Predicted')\n",
    "\n",
    "plt.title('Szeregi czasowe dla predykcji i prawdziwej realizacji zamówień klienta X')\n",
    "plt.xlabel('Date')\n",
    "plt.ylabel('Value')\n",
    "plt.legend()\n",
    "plt.show()"
   ]
  },
  {
   "cell_type": "code",
   "execution_count": null,
   "id": "1934b552-af60-4271-bcfb-23b6d1aa6004",
   "metadata": {},
   "outputs": [],
   "source": [
    "grouped_sum = volumes_df.pivot_table(values='Volume', index='postingDateFk', columns='Product', aggfunc='sum')\n",
    "merged_df = grouped_sum.merge(orders_df, left_index=True, right_index=True, how='left')"
   ]
  },
  {
   "cell_type": "code",
   "execution_count": null,
   "id": "2b0fb636-1e2f-478b-8085-c378530c11d4",
   "metadata": {},
   "outputs": [],
   "source": [
    "merged_df"
   ]
  },
  {
   "cell_type": "code",
   "execution_count": null,
   "id": "4454da52-e0be-40b9-9bf8-bd199385901b",
   "metadata": {},
   "outputs": [],
   "source": [
    "plt.figure(figsize=(17, 8))\n",
    "plt.plot(merged_df.index, merged_df['APM'], label='APM Real')\n",
    "plt.plot(merged_df.index, merged_df['Orders'], label='Orders Predicted')\n",
    "plt.plot(merged_df.index, merged_df['COURIER'], label='Courier Real')\n",
    "\n",
    "plt.title('Szeregi czasowe dla predykcji i prawdziwej realizacji zamówień klienta X wg typu produktu')\n",
    "plt.xlabel('Date')\n",
    "plt.ylabel('Value')\n",
    "plt.legend()\n",
    "plt.show()"
   ]
  },
  {
   "cell_type": "markdown",
   "id": "b37b22a0-b8c7-4089-bf69-6b212bc25bb6",
   "metadata": {},
   "source": [
    " - Klient przysyła swoją predykcję zamówień na kolejny miesiąc. Przesłanie swojej predykcji zamówień można potraktować jako zgłoszenie zapotrzebowania na usługę\n",
    " \n",
    " - Zapotrzebowanie zgłoszone przez klienta jest różne od obserwowanej później liczby realnych nadań\n",
    " \n",
    " - Na podstawie jego zadeklarowanego zapotrzebowania, historycznych realizacji, uwzględnienia dodatkowych czynników takich jak święta, pogoda oraz dodatkowe zmienne możemy dokładniej przewidzieć jakie rzeczywiście będzie zapotrzebowanie na usługi"
   ]
  },
  {
   "cell_type": "code",
   "execution_count": null,
   "id": "36479de5-296c-4ec3-9e97-9fa8c514bae7",
   "metadata": {},
   "outputs": [],
   "source": [
    "volumes_df = volumes_df[['Volume']].groupby('postingDateFk').sum()"
   ]
  },
  {
   "cell_type": "code",
   "execution_count": null,
   "id": "06dc6805-78d5-47b4-aa01-a5fbd4391d25",
   "metadata": {},
   "outputs": [],
   "source": [
    "folder_path = 'data/'\n",
    "dataframes = []\n",
    "\n",
    "for filename in os.listdir(folder_path):\n",
    "    if filename.startswith('k_') and filename.endswith('.csv'):\n",
    "        file_path = os.path.join(folder_path, filename)\n",
    "        df = pd.read_csv(file_path)\n",
    "        dataframes.append(df)\n",
    "pogoda_df = pd.concat(dataframes, ignore_index=True)\n",
    "pogoda_df.head()"
   ]
  },
  {
   "cell_type": "markdown",
   "id": "a041cd34-5646-4ab3-8228-2558b11efa5f",
   "metadata": {},
   "source": [
    "zmienna prognozowana -\n",
    "liczba nadań w konkretnym dniu kolejnego tygodnia/miesiąca"
   ]
  },
  {
   "cell_type": "code",
   "execution_count": null,
   "id": "1f608eba-bfff-4bde-ade2-fce188613d2e",
   "metadata": {},
   "outputs": [],
   "source": [
    "plt.figure(figsize=(17, 8))\n",
    "plt.plot(volumes_df.Volume)\n",
    "plt.title('Dzienna liczba nadań')\n",
    "plt.ylabel('Liczba nadań')\n",
    "plt.xlabel('Dzień nadania')\n",
    "plt.grid(False)\n",
    "plt.show()"
   ]
  },
  {
   "cell_type": "code",
   "execution_count": null,
   "id": "5aea3f11-664f-4d8d-80e9-d7541fc6d68f",
   "metadata": {},
   "outputs": [],
   "source": [
    "def moving_average_plot(series, window, scale=1.96):\n",
    "    rolling_mean = series.rolling(window=window).mean()\n",
    "    plt.figure(figsize=(17,8))\n",
    "    plt.title('Średnia ruchoma\\n dla okna danych = {} dni'.format(window))\n",
    "    plt.plot(rolling_mean, 'g', label='Rolling mean trend')      \n",
    "    plt.plot(series[window:], label='Liczba nadań')\n",
    "    plt.legend(loc='best')\n",
    "    plt.grid(True)"
   ]
  },
  {
   "cell_type": "markdown",
   "id": "715a1256-2177-445b-a51e-b4def1b904e6",
   "metadata": {},
   "source": [
    "Wykres średniej ruchomej w celu identyfikacji trendów w danych. Jak zmieniają się dzienne wartości liczby nadań w stosunku do ich średniej ruchomej"
   ]
  },
  {
   "cell_type": "code",
   "execution_count": null,
   "id": "c2bdec82-1485-4ee4-abd6-28f7dc9336b5",
   "metadata": {},
   "outputs": [],
   "source": [
    "moving_average_plot(volumes_df.Volume, 7)"
   ]
  },
  {
   "cell_type": "markdown",
   "id": "5ccb1fc8-1e0b-4141-a1b8-c5a3b969313d",
   "metadata": {},
   "source": [
    "Wysoka dzienna zmienność"
   ]
  },
  {
   "cell_type": "markdown",
   "id": "90aca536-2918-45dc-a06a-704e8512f10b",
   "metadata": {},
   "source": [
    "Wygładzenie wykładnicze w czasie: alfa - jak ważne są poprzednie wartości danych"
   ]
  },
  {
   "cell_type": "code",
   "execution_count": null,
   "id": "b7dff467-c58b-4c49-baab-0ab915cee49c",
   "metadata": {},
   "outputs": [],
   "source": [
    "def exponential_smoothing(series, alpha):\n",
    "    result = [series[0]]\n",
    "    for n in range(1, len(series)):\n",
    "        result.append(alpha * series[n] + (1 - alpha) * result[n-1])\n",
    "    return result\n",
    "  \n",
    "def exponential_smoothing_plt(series, alphas):\n",
    " \n",
    "    plt.figure(figsize=(17, 8))\n",
    "    for alpha in alphas:\n",
    "        plt.plot(exponential_smoothing(series, alpha), label=\"Alpha {}\".format(alpha))\n",
    "    plt.plot(series.values, \"c\", label = \"Actual\")\n",
    "    plt.legend(loc=\"best\")\n",
    "    plt.axis('tight')\n",
    "    plt.title(\"Exponential Smoothing\")\n",
    "    plt.grid(True);\n",
    "\n",
    "exponential_smoothing_plt(volumes_df.Volume, [0.03, 0.1, 0.5, 0.8])"
   ]
  },
  {
   "cell_type": "markdown",
   "id": "aeca3091-4b69-4b21-953c-85b04f2ac767",
   "metadata": {},
   "source": [
    "Im mniejsza wartość alpha, tym większy wpływ mają wcześniejsze obserwacje.\n",
    "Model bardziej reaguje na najnowsze obserwacje"
   ]
  },
  {
   "cell_type": "markdown",
   "id": "ec700211-a7d3-4102-9e41-3db580b6ce44",
   "metadata": {},
   "source": [
    "<a id=\"sarima\"></a>\n",
    "# 2. SARIMA"
   ]
  },
  {
   "cell_type": "code",
   "execution_count": null,
   "id": "2ac0f678-364c-4c4e-b714-c58ef2a11bd3",
   "metadata": {},
   "outputs": [],
   "source": [
    "def ts_analysis_plot(y, lags=None, figsize=(12, 7), syle='bmh'):\n",
    "    \n",
    "    if not isinstance(y, pd.Series):\n",
    "        y = pd.Series(y)\n",
    "        \n",
    "    with plt.style.context(style='bmh'):\n",
    "        fig = plt.figure(figsize=figsize)\n",
    "        layout = (2,2)\n",
    "        ts_ax = plt.subplot2grid(layout, (0,0), colspan=2)\n",
    "        acf_ax = plt.subplot2grid(layout, (1,0))\n",
    "        pacf_ax = plt.subplot2grid(layout, (1,1))\n",
    "        \n",
    "        y.plot(ax=ts_ax)\n",
    "        p_value = sm.tsa.stattools.adfuller(y)[1]\n",
    "        ts_ax.set_title('Time Series \\n Dickey-Fuller test: p={0:.5f}'.format(p_value))\n",
    "        smt.graphics.plot_acf(y, lags=lags, ax=acf_ax, alpha=0.001)\n",
    "        smt.graphics.plot_pacf(y, lags=lags, ax=pacf_ax, alpha=0.001)\n",
    "        plt.tight_layout()"
   ]
  },
  {
   "cell_type": "markdown",
   "id": "0b922f68-c62c-4841-97e9-09af0e97a37a",
   "metadata": {},
   "source": [
    "Parametr p - zakładamy, że bieżąca wartość zależy od poprzednich wartości z pewnym opóźnieniem, identyfikujemy opóźnienie, po którym większość opóźnień nie jest znacząca\n",
    "\n",
    "Parametr q - reprezentuje największe opóźnienie, po którym inne opóźnienia nie są znaczące na wykresie autokorelacji"
   ]
  },
  {
   "cell_type": "code",
   "execution_count": null,
   "id": "06f633dd-9244-48c5-a25c-0c81e297f7b0",
   "metadata": {},
   "outputs": [],
   "source": [
    "ts_analysis_plot(volumes_df.Volume, lags=14)\n",
    "\n",
    "data_diff = volumes_df.Volume - volumes_df.Volume.shift(1)\n",
    "\n",
    "#ts_analysis_plot(data_diff[1:], lags=7)"
   ]
  },
  {
   "cell_type": "markdown",
   "id": "085c7ff2-339f-426a-be88-47e51fbd28c0",
   "metadata": {},
   "source": [
    "Oba szeregi są stacjonarne:\n",
    "\n",
    "p-value jest mniejsze od poziomu istotności (a poziomie 0.05), zatem odrzucamy hipotezę zerową i wnioskujemy, że szereg czasowy jest stacjonarny"
   ]
  },
  {
   "cell_type": "code",
   "execution_count": null,
   "id": "1ba10d76-45e4-4098-abc1-7cb26e347b25",
   "metadata": {},
   "outputs": [],
   "source": [
    "ps = range(0, 2)\n",
    "d = 1\n",
    "qs =  range(0, 2)\n",
    "Ps = range(0, 2)\n",
    "D = 1\n",
    "Qs = range(0, 2)\n",
    "s = 2\n",
    "\n",
    "parameters = product(ps, qs, Ps, Qs)\n",
    "parameters_list = list(parameters)\n",
    "len(parameters_list)\n",
    "\n",
    "def SARIMA_param_optimalization(parameters_list, d, D, s):\n",
    "    \"\"\"\n",
    "        Metoda zwaraca ramkę danych z wartością AIC i parametrami modelu\n",
    "        \n",
    "        parameters_list - lista parametrów (p, q, P, Q)\n",
    "        d - integration order\n",
    "        D - seasonal integration order\n",
    "        s - length of season\n",
    "    \"\"\"\n",
    "    \n",
    "    results = []\n",
    "    best_aic = float('inf')\n",
    "    \n",
    "    for param in tqdm_notebook(parameters_list):\n",
    "        try: model = sm.tsa.statespace.SARIMAX(volumes_df.Volume, order=(param[0], d, param[1]),\n",
    "                                               seasonal_order=(param[2], D, param[3], s), freq='D').fit(disp=-1)\n",
    "        except:\n",
    "            continue\n",
    "            \n",
    "        aic = model.aic\n",
    "        \n",
    "        # Zapis najlepszego modelu\n",
    "        if aic < best_aic:\n",
    "            best_model = model\n",
    "            best_aic = aic\n",
    "            best_param = param\n",
    "        results.append([param, model.aic])\n",
    "        \n",
    "    result_table = pd.DataFrame(results)\n",
    "    result_table.columns = ['parameters', 'aic']\n",
    "    # Posortowanie w kolejności rosnącej, im niższe AIC tym lepszy model\n",
    "    result_table = result_table.sort_values(by='aic', ascending=True).reset_index(drop=True)\n",
    "    \n",
    "    return result_table\n",
    "\n",
    "result_table = SARIMA_param_optimalization(parameters_list, d, D, s)\n",
    "\n",
    "# Wybieramy model z najniższym AIC (Akaike Information Criteria)\n",
    "p, q, P, Q = result_table.parameters[0]\n",
    "\n",
    "best_model = sm.tsa.statespace.SARIMAX(volumes_df.Volume, order=(p, d, q),\n",
    "                                       seasonal_order=(P, D, Q, s)).fit(disp=-1)\n",
    "\n",
    "print(best_model.summary())"
   ]
  },
  {
   "cell_type": "code",
   "execution_count": null,
   "id": "e4d582fc-65ce-4414-a5ed-519b3d231114",
   "metadata": {},
   "outputs": [],
   "source": [
    "volumes_df.index.max()"
   ]
  },
  {
   "cell_type": "code",
   "execution_count": null,
   "id": "4ac35a13-50c0-4657-8b36-c5150a482106",
   "metadata": {},
   "outputs": [],
   "source": [
    "forecast = best_model.predict(start='2023-08-01', end='2023-08-31')"
   ]
  },
  {
   "cell_type": "code",
   "execution_count": null,
   "id": "fdff7f92-50c9-41c1-b685-14f095b24f53",
   "metadata": {},
   "outputs": [],
   "source": [
    "comparison = pd.DataFrame({'Prawdziwa': volumes_df_test.Volume.values,\n",
    "                          'Przewidywana': forecast.values}, \n",
    "                          index = pd.date_range(start='2023-08-01', periods=31,))\n",
    "\n",
    "plt.figure(figsize=(17, 8))\n",
    "plt.plot(comparison.Prawdziwa)\n",
    "plt.plot(comparison.Przewidywana)\n",
    "plt.title('Przewidywana liczba nadań')\n",
    "plt.ylabel('Liczba nadań')\n",
    "plt.xlabel('Dzień')\n",
    "plt.legend()\n",
    "plt.grid(False)\n",
    "plt.show()"
   ]
  },
  {
   "cell_type": "code",
   "execution_count": null,
   "id": "e796b9e9-225f-4a8b-8271-835fe4538d51",
   "metadata": {},
   "outputs": [],
   "source": [
    "comparison['diff']= comparison['Prawdziwa'] - comparison['Przewidywana']"
   ]
  },
  {
   "cell_type": "code",
   "execution_count": null,
   "id": "4f1ce875-fa6a-48a3-8de2-a0df412bfd42",
   "metadata": {},
   "outputs": [],
   "source": [
    "from sklearn.metrics import mean_squared_error, mean_absolute_error\n",
    "def mean_absolute_percentage_error(y_true, y_pred):\n",
    "    return np.mean(np.abs((y_true - y_pred) / y_true)) * 100\n",
    "\n",
    "mse_sarima = mean_squared_error(comparison['Prawdziwa'], comparison['Przewidywana'])\n",
    "mape_sarima = mean_absolute_percentage_error(comparison['Prawdziwa'], comparison['Przewidywana'])\n",
    "mae_sarima = mean_absolute_error(comparison['Prawdziwa'], comparison['Przewidywana'])\n",
    "\n",
    "print(\"Metryka MSE:\", mse_sarima)\n",
    "print(\"Metryka MAPE:\", mape_sarima)\n",
    "print(\"Metryka MAE:\", mae_sarima)"
   ]
  },
  {
   "cell_type": "markdown",
   "id": "29c9e5e8-5e90-4109-ba65-4e063bbfa378",
   "metadata": {},
   "source": [
    "<a id=\"auto_reg\"></a>\n",
    "# 3. Modele autoregresyjne"
   ]
  },
  {
   "cell_type": "markdown",
   "id": "387394ef-6eb3-4d19-8c17-0fc5b55b7d69",
   "metadata": {},
   "source": [
    "<a id=\"test_train_split\"></a>\n",
    "# 3.1. Train / test split"
   ]
  },
  {
   "cell_type": "code",
   "execution_count": null,
   "id": "6e4c7d39-934a-4169-b0d0-065fe28454d8",
   "metadata": {},
   "outputs": [],
   "source": [
    "abt = pd.read_parquet('data/Posting_Volumes')\n",
    "abt['postingDateFk'] = pd.to_datetime(abt['postingDateFk'], format='%Y%m%d')\n",
    "abt.set_index('postingDateFk', inplace=True)\n",
    "abt = abt.query(\"postingDateFk >= '2022-01-01'\")\n",
    "abt = abt.query(\"Customer == 'X'\")\n",
    "abt = abt[['Volume']].groupby('postingDateFk').sum()\n",
    "abt = abt.asfreq('D')\n",
    "abt = abt['Volume'].dropna()\n",
    "end_train = '2023-06-30 00:00:00'"
   ]
  },
  {
   "cell_type": "code",
   "execution_count": null,
   "id": "b5975c1d-e507-4802-9d93-33545864d446",
   "metadata": {},
   "outputs": [],
   "source": [
    "abt.index.max()"
   ]
  },
  {
   "cell_type": "code",
   "execution_count": null,
   "id": "80279772-a1eb-44c5-97fd-7ab9ad753145",
   "metadata": {},
   "outputs": [],
   "source": [
    "abt.index.min()"
   ]
  },
  {
   "cell_type": "code",
   "execution_count": null,
   "id": "ede62883-b784-4963-a914-5e9c5680fe14",
   "metadata": {},
   "outputs": [],
   "source": [
    "print(\n",
    "    f\"Train dates : {abt.index.min()} --- {abt.loc[:end_train].index.max()}  \" \n",
    "    f\"(n={len(abt.loc[:end_train])})\")\n",
    "print(\n",
    "    f\"Test dates  : {abt.loc[end_train:].index.min()} --- {abt.index.max()}  \"\n",
    "    f\"(n={len(abt.loc[end_train:])})\")\n",
    "\n",
    "fig, ax = plt.subplots(figsize=(11, 3))\n",
    "\n",
    "abt.plot(ax=ax)\n",
    "ax.axvline(x=end_train, color='r', linestyle='--', label='Train/Test Split')\n",
    "ax.legend()\n",
    "ax.set_title('Train / test split')\n",
    "\n",
    "plt.show()"
   ]
  },
  {
   "cell_type": "markdown",
   "id": "afcfa896-f5c4-494b-bb69-1ce45f754c39",
   "metadata": {},
   "source": [
    "<a id=\"auto_reg_ml\"></a>\n",
    "# 3.2. XGboost, Random Forest"
   ]
  },
  {
   "cell_type": "code",
   "execution_count": null,
   "id": "3dc0faf1-8068-47b1-92ea-61973dd53c37",
   "metadata": {},
   "outputs": [],
   "source": [
    "from xgboost import XGBRegressor\n",
    "from sklearn.ensemble import RandomForestRegressor\n",
    "from skforecast.ForecasterAutoreg import ForecasterAutoreg\n",
    "\n",
    "steps = len(abt.loc[end_train:])\n",
    "\n",
    "forecaster_rf = ForecasterAutoreg(\n",
    "                    regressor = RandomForestRegressor(random_state=362),\n",
    "                    lags      = 30\n",
    "                )\n",
    "forecaster_gb = ForecasterAutoreg(\n",
    "                    regressor = XGBRegressor(random_state=362),\n",
    "                    lags      = 30\n",
    "                )\n",
    "\n",
    "forecaster_rf.fit(abt.loc[:end_train])\n",
    "forecaster_gb.fit(abt.loc[:end_train])\n",
    "\n",
    "predictions_rf = forecaster_rf.predict(steps=steps)\n",
    "predictions_gb = forecaster_gb.predict(steps=steps)"
   ]
  },
  {
   "cell_type": "code",
   "execution_count": null,
   "id": "1b2ccca7-f7a1-4441-b39d-1c3bf5357ab3",
   "metadata": {},
   "outputs": [],
   "source": [
    "error_rf = mean_absolute_error(abt.loc[end_train:], predictions_rf)\n",
    "error_gb = mean_absolute_error(abt.loc[end_train:], predictions_gb)\n",
    "print(f\"Error (MAE) Random Forest: {error_rf:.2f}\")\n",
    "print(f\"Error (MAE) Gradient Boosting: {error_gb:.2f}\")\n",
    "\n",
    "fig, ax = plt.subplots(figsize=(9, 6), sharex=True, sharey=True)\n",
    "abt.loc[:end_train].plot(ax=ax, label='train')\n",
    "abt.loc[end_train:].plot(ax=ax, label='test')\n",
    "predictions_rf.plot(ax=ax, label='Random Forest')\n",
    "predictions_gb.plot(ax=ax, label='Gradient Boosting')\n",
    "ax.set_title(f'Modele autoregresyjne - predykcja')\n",
    "ax.set_xlabel('')\n",
    "ax.legend();"
   ]
  },
  {
   "cell_type": "code",
   "execution_count": null,
   "id": "087db8c0-9d35-41a5-8b1c-21f93d9492e8",
   "metadata": {},
   "outputs": [],
   "source": [
    "mse_xgb_autoreg = mean_squared_error(abt.loc[end_train:], predictions_gb)\n",
    "mape_xgb_autoreg = mean_absolute_percentage_error(abt.loc[end_train:], predictions_gb)\n",
    "mae_xgb_autoreg = mean_absolute_error(abt.loc[end_train:], predictions_gb)\n",
    "\n",
    "print(\"Metryka MSE:\", mse_xgb_autoreg)\n",
    "print(\"Metryka MAPE:\", mape_xgb_autoreg)\n",
    "print(\"Metryka MAE:\", mae_xgb_autoreg)"
   ]
  },
  {
   "cell_type": "code",
   "execution_count": null,
   "id": "cd974389-1b85-460f-9a9a-1e36dc6ddcb5",
   "metadata": {},
   "outputs": [],
   "source": [
    "mse_rf_autoreg = mean_squared_error(abt.loc[end_train:], predictions_rf)\n",
    "mape_rf_autoreg = mean_absolute_percentage_error(abt.loc[end_train:], predictions_rf)\n",
    "mae_rf_autoreg = mean_absolute_error(abt.loc[end_train:], predictions_rf)\n",
    "\n",
    "print(\"Metryka MSE:\", mse_rf_autoreg)\n",
    "print(\"Metryka MAPE:\", mape_rf_autoreg)\n",
    "print(\"Metryka MAE:\", mae_rf_autoreg)"
   ]
  },
  {
   "cell_type": "markdown",
   "id": "c2e782f0-1af4-4dcb-9e42-9ae9aef40df5",
   "metadata": {},
   "source": [
    "<a id=\"FE_all\"></a>\n",
    "# 4. Feature engineering"
   ]
  },
  {
   "cell_type": "markdown",
   "id": "4dcd2a8c-5198-4a40-b51e-8585c3ea9739",
   "metadata": {},
   "source": [
    "<a id=\"FE_cli\"></a>\n",
    "# 4.1 Dane klientowskie - Features"
   ]
  },
  {
   "cell_type": "code",
   "execution_count": null,
   "id": "775cba2c-3265-481f-99a5-036dbc009d44",
   "metadata": {},
   "outputs": [],
   "source": [
    "orders_df = pd.read_excel('data/X_ClientORDERS.xlsx')\n",
    "orders_df['DateId'] = pd.to_datetime(orders_df['DateId'], format='%Y%m%d')\n",
    "orders_df.set_index('DateId', inplace=True)"
   ]
  },
  {
   "cell_type": "code",
   "execution_count": null,
   "id": "8de15488-705e-465e-a325-cd7f9d750f2e",
   "metadata": {},
   "outputs": [],
   "source": [
    "def lag_features(data, column, lag_steps=1):\n",
    "    for i in range(1, lag_steps + 1):\n",
    "        data[f'{column}_lag_{i}'] = data[column].shift(i)\n",
    "    return data"
   ]
  },
  {
   "cell_type": "code",
   "execution_count": null,
   "id": "92e98c50-8668-4c41-b49a-0a3b0082b64a",
   "metadata": {},
   "outputs": [],
   "source": [
    "def rolling_agg(data, column, agg_func, window_size=2):\n",
    "    if agg_func not in ['mean', 'sum', 'max', 'min']:\n",
    "        raise ValueError(\"Value error\")\n",
    "    # -7 jeśli dla tychodniowych predykcji\n",
    "    agg_result = getattr(data[column].shift(-7).rolling(window=window_size), agg_func)()\n",
    "    data[f'{column}_{agg_func}_{window_size}d'] = agg_result\n",
    "    return data"
   ]
  },
  {
   "cell_type": "code",
   "execution_count": null,
   "id": "81b2864b-7b39-49a1-8e1b-0865ac787439",
   "metadata": {},
   "outputs": [],
   "source": [
    "def trend_features(data, column, lag_steps=2):\n",
    "    data[f'{column}_trend_lag_{lag_steps}'] = (data[f'{column}_lag_{lag_steps-1}'] - data[f'{column}_lag_{lag_steps}']) / data[f'{column}_lag_{lag_steps}']\n",
    "    return data"
   ]
  },
  {
   "cell_type": "code",
   "execution_count": null,
   "id": "819fd204-52a8-48a5-bda0-62c5d9e3b419",
   "metadata": {},
   "outputs": [],
   "source": [
    "orders_df = lag_features(orders_df, 'Orders', lag_steps=15)\n",
    "\n",
    "orders_df = rolling_agg(orders_df,'Orders', 'mean', window_size= 7)\n",
    "orders_df = rolling_agg(orders_df,'Orders', 'sum', window_size= 7)\n",
    "orders_df = rolling_agg(orders_df,'Orders', 'max', window_size= 7)\n",
    "orders_df = rolling_agg(orders_df,'Orders', 'min', window_size= 7)\n",
    "\n",
    "orders_df = rolling_agg(orders_df,'Orders', 'mean', window_size= 10)\n",
    "orders_df = rolling_agg(orders_df,'Orders', 'sum', window_size= 10)\n",
    "orders_df = rolling_agg(orders_df,'Orders', 'max', window_size= 10)\n",
    "orders_df = rolling_agg(orders_df,'Orders', 'min', window_size= 10)\n",
    "\n",
    "orders_df = trend_features(orders_df, 'Orders', lag_steps=8)\n",
    "orders_df = trend_features(orders_df, 'Orders', lag_steps=9)\n",
    "\n",
    "# orders_df['Day'] = orders_df.index.day\n",
    "# orders_df['Month'] = orders_df.index.month"
   ]
  },
  {
   "cell_type": "code",
   "execution_count": null,
   "id": "301da438-af4e-4618-90c4-ecfeebb0c4d6",
   "metadata": {},
   "outputs": [],
   "source": [
    "orders_df.head()"
   ]
  },
  {
   "cell_type": "markdown",
   "id": "225d8608-70e1-457f-912e-0fe1172ad160",
   "metadata": {},
   "source": [
    "<a id=\"FE_sales\"></a>\n",
    "# 4.2 Dane sprzedażowe - Features"
   ]
  },
  {
   "cell_type": "code",
   "execution_count": null,
   "id": "16d7ca4f-fbdc-4390-b2d5-c8fa0d4d7b29",
   "metadata": {},
   "outputs": [],
   "source": [
    "# liczba nadań\n",
    "vol_df = pd.read_parquet('data/Posting_Volumes')\n",
    "vol_df['postingDateFk'] = pd.to_datetime(vol_df['postingDateFk'], format='%Y%m%d')\n",
    "vol_df.set_index('postingDateFk', inplace=True)\n",
    "vol_df['Day'] = vol_df.index.day\n",
    "vol_df['Month'] = vol_df.index.month\n",
    "vol_df['Day_of_year'] = vol_df.index.dayofyear\n",
    "week_of_month = (vol_df.index.day - 1) // 7 + 1\n",
    "vol_df['Week_of_month'] = week_of_month\n",
    "vol_df['Week_of_year'] = vol_df.index.isocalendar().week"
   ]
  },
  {
   "cell_type": "code",
   "execution_count": null,
   "id": "9e5298c8-c4b5-4d5e-b778-be501e97f932",
   "metadata": {},
   "outputs": [],
   "source": [
    "vol_df.head()"
   ]
  },
  {
   "cell_type": "code",
   "execution_count": null,
   "id": "f691514b-b458-46ec-9aa9-06dd2a266d9f",
   "metadata": {},
   "outputs": [],
   "source": [
    "grouped_products = vol_df.pivot_table(values='Volume', index='postingDateFk', columns='Product', aggfunc='sum')\n",
    "grouped_products = grouped_products.rename(columns={'APM': 'APM_sum', 'COURIER': 'COURIER_sum'})\n",
    "grouped_products = lag_features(grouped_products, 'APM_sum', lag_steps=15)\n",
    "grouped_products = lag_features(grouped_products, 'COURIER_sum', lag_steps=15)\n",
    "grouped_products = grouped_products.drop(['APM_sum','COURIER_sum'], axis=1)\n",
    "grouped_products"
   ]
  },
  {
   "cell_type": "code",
   "execution_count": null,
   "id": "4315a0ed-1a2e-4110-a8bc-c51db985ad39",
   "metadata": {},
   "outputs": [],
   "source": [
    "grouped_products2 = vol_df.pivot_table(values='Volume', index='Week_of_year', columns='Product', aggfunc='mean')\n",
    "grouped_products2 = grouped_products2.rename(columns={'APM': 'APM_w_y_avg', 'COURIER': 'COURIER_w_y_avg'})\n",
    "grouped_products2.head(3)"
   ]
  },
  {
   "cell_type": "code",
   "execution_count": null,
   "id": "60364967-857a-4777-9a34-e1b90b1df7b4",
   "metadata": {},
   "outputs": [],
   "source": [
    "grouped_vol_d = vol_df.pivot_table(values='Volume', index='Day_of_year', aggfunc='mean')\n",
    "grouped_vol_d = grouped_vol_d.rename(columns={'Volume': 'volume_d_y_avg'})\n",
    "grouped_vol_d.tail()"
   ]
  },
  {
   "cell_type": "code",
   "execution_count": null,
   "id": "057426d2-17a6-434a-972e-021b5bdc9862",
   "metadata": {},
   "outputs": [],
   "source": [
    "grouped_vol_w = vol_df.pivot_table(values='Volume', index='Week_of_year', aggfunc='mean')\n",
    "grouped_vol_w = grouped_vol_w.rename(columns={'Volume': 'volume_w_y_avg'})\n",
    "grouped_vol_w.head()"
   ]
  },
  {
   "cell_type": "code",
   "execution_count": null,
   "id": "9f7444d5-1cab-4de1-8f90-1754eac25278",
   "metadata": {},
   "outputs": [],
   "source": [
    "grouped_vol_w2 = vol_df.pivot_table(values='Volume', index='Week_of_month', aggfunc='mean')\n",
    "grouped_vol_w2 = grouped_vol_w2.rename(columns={'Volume': 'volume_w_m_avg'})\n",
    "grouped_vol_w2.head()"
   ]
  },
  {
   "cell_type": "code",
   "execution_count": null,
   "id": "c623b397-5388-4eba-a17f-f160b821b1ce",
   "metadata": {},
   "outputs": [],
   "source": [
    "grouped_cust = vol_df.pivot_table(values='Volume', index='Week_of_year', columns='Customer', aggfunc='mean')\n",
    "grouped_cust = grouped_cust.rename(columns={'Rest': 'Rest_volume_w_avg', 'X': 'X_volume_w_avg'})\n",
    "grouped_cust.head(3)"
   ]
  },
  {
   "cell_type": "code",
   "execution_count": null,
   "id": "c7e22cac-366e-46b8-b6a0-1e198a098bd1",
   "metadata": {},
   "outputs": [],
   "source": [
    "grouped_time = vol_df.groupby(['Month'])['Volume'].mean().reset_index()\n",
    "grouped_time = grouped_time.rename(columns={'Volume': 'volume_m_avg'})\n",
    "grouped_time.head(3)"
   ]
  },
  {
   "cell_type": "markdown",
   "id": "244fe703-f270-4fcf-9680-f0c49e134018",
   "metadata": {},
   "source": [
    "<a id=\"FE_calendar\"></a>\n",
    "# 4.3 Dane kalendarzowe - Features"
   ]
  },
  {
   "cell_type": "code",
   "execution_count": null,
   "id": "875b5ef0-a8b0-4d57-acef-1fe750f6e321",
   "metadata": {},
   "outputs": [],
   "source": [
    "time_data = pd.read_csv(\"data/dimDates_Task.csv\", sep=\";\", index_col=['dateId'], parse_dates=['dateId'])\n",
    "time_data = time_data[['dateQuarter','dateIsWeekend','dateIsHolidayInd','dateWeekDayStartsMonday', \n",
    "           'dateWeekOfYearStartsMonday','isThuHolyday','isFriHolyday', 'isSatHolyday', 'isWeekendParcelServiceBreakInd']]\n",
    "time_data.index.max()"
   ]
  },
  {
   "cell_type": "code",
   "execution_count": null,
   "id": "242cfef5-bbec-4229-a70f-1a62a1e38f38",
   "metadata": {},
   "outputs": [],
   "source": [
    "time_data.head()"
   ]
  },
  {
   "cell_type": "markdown",
   "id": "40026fa7-9db3-4363-b291-4ad74caf0b30",
   "metadata": {},
   "source": [
    "<a id=\"FE_pogodowe\"></a>\n",
    "# 4.4 Dane pogodowe - Features"
   ]
  },
  {
   "cell_type": "code",
   "execution_count": null,
   "id": "cef45379-171b-4db6-8c53-1d63a755e1bd",
   "metadata": {},
   "outputs": [],
   "source": [
    "pogoda_df['Data'] = pd.to_datetime(dict(year=pogoda_df.Rok, month=pogoda_df.Miesiac, day=pogoda_df.Dzien))\n",
    "pogoda_df['Week_of_year'] = pogoda_df['Data'].dt.isocalendar().week\n",
    "pogoda_df.head(2)"
   ]
  },
  {
   "cell_type": "code",
   "execution_count": null,
   "id": "8621af74-afb0-467a-889d-c21e3d7a5a9e",
   "metadata": {},
   "outputs": [],
   "source": [
    "pogoda_agg_weekly = pogoda_df.groupby(['Week_of_year']).agg(\n",
    "                    dobowa_temp_w_max = pd.NamedAgg(column='Maksymalna temperatura dobowa', aggfunc='max'),\n",
    "                    dobowa_temp_w_min = pd.NamedAgg(column='Minimalna temperatura dobowa', aggfunc='min'),\n",
    "                    dobowa_temp_w_avg = pd.NamedAgg(column='Srednia temperatura dobowa', aggfunc='mean'),\n",
    "                    opady_w_avg = pd.NamedAgg(column='Suma dobowa opadow [mm]', aggfunc='mean'),\n",
    "                    snieg_w_avg = pd.NamedAgg(column='Pokrywa sniegu [cm]', aggfunc='mean'),\n",
    "                    ).reset_index()\n",
    "pogoda_agg_weekly['temp_diff_avg'] = pogoda_agg_weekly['dobowa_temp_w_max'] - pogoda_agg_weekly['dobowa_temp_w_min']\n",
    "pogoda_agg_weekly.head()"
   ]
  },
  {
   "cell_type": "markdown",
   "id": "49fd601c-c83e-4c98-b100-d644cfbbeb97",
   "metadata": {},
   "source": [
    "<a id=\"model_fin\"></a>\n",
    "# 5. XGBoost"
   ]
  },
  {
   "cell_type": "code",
   "execution_count": null,
   "id": "24228b1b-1c0a-47e6-931e-a6e48bdbca74",
   "metadata": {},
   "outputs": [],
   "source": [
    "abt = pd.read_parquet('data/Posting_Volumes')\n",
    "abt['postingDateFk'] = pd.to_datetime(abt['postingDateFk'], format='%Y%m%d')\n",
    "abt.set_index('postingDateFk', inplace=True)\n",
    "# ze względu na zmienne opóźnione\n",
    "abt = abt.query(\"postingDateFk >= '2023-01-20'\")\n",
    "abt = abt.query(\"Customer == 'X'\")\n",
    "abt = abt[['Volume']].groupby('postingDateFk').sum()\n",
    "# kolumny kalendarzowe\n",
    "abt['Day'] = abt.index.day\n",
    "abt['Month'] = abt.index.month\n",
    "abt['Day_of_year'] = abt.index.dayofyear\n",
    "week_of_month = (abt.index.day - 1) // 7 + 1\n",
    "abt['Week_of_month'] = week_of_month\n",
    "abt['Week_of_year'] = abt.index.isocalendar().week\n",
    "end_train = '2023-06-30 00:00:00'\n",
    "end_train_dt = pd.to_datetime(end_train)"
   ]
  },
  {
   "cell_type": "code",
   "execution_count": null,
   "id": "d8c8a3db-34e7-40a7-ae19-aef919f30d07",
   "metadata": {},
   "outputs": [],
   "source": [
    "abt = abt.merge(orders_df, how='left', left_index=True, right_on='DateId')\\\n",
    "    .merge(grouped_products, how='left', left_index=True, right_on='postingDateFk')\\\n",
    "    .merge(grouped_products, how='left', left_index=True, right_on='postingDateFk')\\\n",
    "    .merge(time_data, how='left', left_index=True, right_index=True)\n",
    "\n",
    "abt['copy_index'] = abt.index\n",
    "abt = abt.merge(grouped_products2, how= 'left', on= 'Week_of_year')\\\n",
    "        .merge(grouped_vol_d, how= 'left', on= 'Day_of_year')\\\n",
    "        .merge(grouped_vol_w, how= 'left', on= 'Week_of_year')\\\n",
    "        .merge(grouped_vol_w2, how= 'left', on= 'Week_of_month')\\\n",
    "        .merge(grouped_cust, how= 'left', on= 'Week_of_year')\\\n",
    "        .merge(grouped_time, how= 'left', on= 'Month')\\\n",
    "        .merge(pogoda_agg_weekly, how= 'left', on= 'Week_of_year')\n",
    "\n",
    "\n",
    "abt.set_index('copy_index', inplace=True)\n",
    "\n",
    "# predykcja na tydzień przed więc bez opóźnien od 1 do 7\n",
    "columns_to_drop = [col for col in abt.columns if 'lag_' in col and col.split('_')[1] not in ['1', '2', '3', '4', '5', '6', '7']]\n",
    "abt = abt.drop(columns=columns_to_drop)\n",
    "abt.head()"
   ]
  },
  {
   "cell_type": "code",
   "execution_count": null,
   "id": "a2b06056-8f0e-42be-ad59-35da40376614",
   "metadata": {},
   "outputs": [],
   "source": [
    "X_train = abt.loc[:end_train].drop('Volume', axis=1)\n",
    "X_test = abt.loc[~abt.index.isin(X_train.index)].drop('Volume', axis=1)\n",
    "y_train = abt.loc[:end_train][['Volume']]\n",
    "y_test = abt.loc[~abt.index.isin(y_train.index)][['Volume']]"
   ]
  },
  {
   "cell_type": "code",
   "execution_count": null,
   "id": "ddd8ae5e-1b67-4322-914c-04e8be2bac06",
   "metadata": {},
   "outputs": [],
   "source": [
    "from sklearn.model_selection import GridSearchCV\n",
    "from xgboost import XGBRegressor\n",
    "\n",
    "param_grid = {\n",
    "\n",
    "    'learning_rate': [0.01, 0.1, 0.2],\n",
    "\n",
    "    'max_depth': [3, 5, 7],\n",
    "\n",
    "    'subsample': [0.6, 0.8, 0.9]\n",
    "\n",
    "}\n",
    "\n",
    "grid_search = GridSearchCV(XGBRegressor(), param_grid, cv=3)\n",
    "\n",
    "grid_search.fit(X_train, y_train)\n",
    "\n",
    "best_params = grid_search.best_params_"
   ]
  },
  {
   "cell_type": "code",
   "execution_count": null,
   "id": "ee3a1ff6-842d-4d72-aeee-a58826870bf5",
   "metadata": {},
   "outputs": [],
   "source": [
    "# xgb_model = XGBRegressor(**best_params)\n",
    "xgb_model = XGBRegressor()\n",
    "\n",
    "xgb_model.fit(X_train, y_train)"
   ]
  },
  {
   "cell_type": "code",
   "execution_count": null,
   "id": "e91b5ccd-44dc-4f2e-9454-558d037ff78c",
   "metadata": {},
   "outputs": [],
   "source": [
    "pred = xgb_model.predict(X_test)"
   ]
  },
  {
   "cell_type": "code",
   "execution_count": null,
   "id": "12adaef0-43b3-4458-bc9d-3282072383fa",
   "metadata": {},
   "outputs": [],
   "source": [
    "error_xg = mean_absolute_error(y_test, pred)\n",
    "print(f\"Error (MAE) Gradient Boosting: {error_xg:.2f}\")"
   ]
  },
  {
   "cell_type": "code",
   "execution_count": null,
   "id": "5971b2f7-adbd-492d-994c-4a220331108c",
   "metadata": {},
   "outputs": [],
   "source": [
    "pred_index = y_test.index\n",
    "\n",
    "predictions_xgb = pd.Series(pred, index=pred_index)\n",
    "\n",
    "fig, ax = plt.subplots(figsize=(9, 6), sharex=True, sharey=True)\n",
    "abt.loc[:end_train].Volume.plot(ax=ax, label='train')\n",
    "abt.loc[end_train:].Volume.plot(ax=ax, label='test')\n",
    "predictions_xgb.plot(ax=ax, label='Xgboost')\n",
    "ax.set_title('Model Xgboost - predykcja')\n",
    "ax.set_xlabel('')\n",
    "ax.legend()\n",
    "plt.show()"
   ]
  },
  {
   "cell_type": "code",
   "execution_count": null,
   "id": "596205b0-9e1b-4aee-b0d0-5e0c929aa7c7",
   "metadata": {},
   "outputs": [],
   "source": [
    "mse_xgboost = mean_squared_error(y_test.Volume, pred)\n",
    "mape_xgboost = mean_absolute_percentage_error(y_test.Volume, pred)\n",
    "mae_xgboost = mean_absolute_error(y_test.Volume, pred)\n",
    "\n",
    "print(\"Metryka MSE:\", mse_xgboost)\n",
    "print(\"Metryka MAPE:\", mape_xgboost)\n",
    "print(\"Metryka MAE:\", mae_xgboost)"
   ]
  },
  {
   "cell_type": "markdown",
   "id": "509d5549-86a2-4ddb-82e9-1bc15a9eb480",
   "metadata": {},
   "source": [
    "<a id=\"comparison\"></a>\n",
    "# 6. Zestawienie wyników"
   ]
  },
  {
   "cell_type": "code",
   "execution_count": null,
   "id": "c7a0ee6a-e773-4981-9987-b4a67cbd6dd7",
   "metadata": {},
   "outputs": [],
   "source": [
    "# SARIMA\n",
    "\n",
    "print(\"Metryka MSE:\", mse_sarima)\n",
    "print(\"Metryka MAPE:\", mape_sarima)\n",
    "print(\"Metryka MAE:\", mae_sarima)"
   ]
  },
  {
   "cell_type": "code",
   "execution_count": null,
   "id": "1472f3ce-f91a-4853-9853-1c2e6d637c75",
   "metadata": {},
   "outputs": [],
   "source": [
    "# XGBoost autoregresyjny\n",
    "\n",
    "print(\"Metryka MSE:\", mse_xgb_autoreg)\n",
    "print(\"Metryka MAPE:\", mape_xgb_autoreg)\n",
    "print(\"Metryka MAE:\", mae_xgb_autoreg)"
   ]
  },
  {
   "cell_type": "code",
   "execution_count": null,
   "id": "8b708d88-1523-4709-95c3-d74234764086",
   "metadata": {},
   "outputs": [],
   "source": [
    "# Random Forest autoregresyjny\n",
    "\n",
    "print(\"Metryka MSE:\", mse_rf_autoreg)\n",
    "print(\"Metryka MAPE:\", mape_rf_autoreg)\n",
    "print(\"Metryka MAE:\", mae_rf_autoreg)"
   ]
  },
  {
   "cell_type": "code",
   "execution_count": null,
   "id": "9e7c0a39-ec2a-42a3-8141-4eeb13ee872f",
   "metadata": {},
   "outputs": [],
   "source": [
    "# XGBoost\n",
    "\n",
    "print(\"Metryka MSE:\", mse_xgboost)\n",
    "print(\"Metryka MAPE:\", mape_xgboost)\n",
    "print(\"Metryka MAE:\", mae_xgboost)"
   ]
  },
  {
   "cell_type": "markdown",
   "id": "8200ce4b-eb8c-47a2-88bf-4024975f817a",
   "metadata": {},
   "source": [
    "Najniższe wartości błędów dla algorytmu XGBoost"
   ]
  },
  {
   "cell_type": "markdown",
   "id": "16fd5124-37a3-4207-8fd9-86c2a90cd445",
   "metadata": {},
   "source": [
    "<a id=\"poprawa\"></a>\n",
    "# 7. Ulepszenie rozwiązania"
   ]
  },
  {
   "cell_type": "markdown",
   "id": "7f0da1d5-87fc-48bf-ad62-e0429cb5eab1",
   "metadata": {},
   "source": [
    "- zmienne opóźnione (lag), trendy opisujące zmiany w czasie oraz średnie z poprzednich lat dla danego tygodnia/miesiąca zostały wykorzystane jedynie na części tabel. Najlepszym rozwiązaniem byłoby sprawdzenie statystyk również na pozostałych tabelach\n",
    "\n",
    "- sprawdzenie pozostałych algorytmów (random forest, catboost, lightgbm)\n",
    "\n",
    "- wsparcie walidacji krzyżowej algorytmem bayesowskim i adaptacyjnym przeszukaniem przestrzeni hiperparametrów\n",
    "\n",
    "- dokładniejsze przyjrzenie się zmiennym: feature importance i sprawdzenie, który rodzaj zmiennych jest najlepszym predyktorem i dobudowanie kolejnych zmiennych o podobnym charakterze\n",
    "\n",
    "- sprawdzenie dni na których model myli się najbardziej, zbadanie rozkładu zmiennych i dobudowanie zmiennych, które mogą pomóc w lepszym opisaniu źle oszacowanych obserwacji\n",
    "\n",
    "- uprodukcyjnienie rozwiązania: odpowiedź na pytanie, ktore zmienne możemy uwzględnić w tygodniowej/ miesięcznej predykcji (np. jeśli predykcja jest tygodniowa to najmniejsze zastosowanie opóźnienia zmiennych zależnych może wynieść 8)\n",
    "\n",
    "- wydłużenie horyzontu czasowego modelu\n",
    "\n",
    "- sprawdzenie innych modeli analizujących dane sekwencyjne: LSTM, temporal fusion transformer\n",
    "\n",
    "- dodanie transformacij zmiennych opisujących sezonowość/ amplitudę np (Fourier transformation)\n",
    "\n",
    "- odpowiednia transformacja wykorzystanych zmiennych - sprawdzenie jak sprawdzi się sinus/cosinus zmiennych typu dzień tygodnia\n",
    "\n",
    "- sprawdzenie obserwacji odstających w szeregu czasowym, sprawdzenie jak na jakość predyckji wpłynie podstawienie pod anomalie np średniej z dwóch okresów\n",
    "\n",
    "- końcowy model przewiduje dzienną liczbę nadań na podstawie zgłoszonego zapotrzebowania klienta 'X' oraz dodatkowych czynników wpływających na liczbę zamówień takich jak pogoda, dni świąteczne, dzień tygodnia, pora roku oraz liczba zamówień w poprzednich okresach. Należałoby wykonać analizę jak dany model sprawdza się na wszystkich klientach"
   ]
  },
  {
   "cell_type": "code",
   "execution_count": null,
   "id": "d932671d-613a-4e74-8404-8e4cc7baa3c5",
   "metadata": {},
   "outputs": [],
   "source": [
    "from pytorch_forecasting import TimeSeriesDataSet"
   ]
  },
  {
   "cell_type": "code",
   "execution_count": null,
   "id": "2a599802-39bd-43fc-92b9-aef504c9575a",
   "metadata": {},
   "outputs": [],
   "source": [
    "abt = abt.reset_index()\n",
    "abt[\"time_idx\"] = abt[\"copy_index\"].dt.year + abt[\"copy_index\"].dt.month + abt[\"copy_index\"].dt.day\n",
    "abt[\"client\"] = 'X'"
   ]
  },
  {
   "cell_type": "code",
   "execution_count": null,
   "id": "68ea90f1-b7be-4802-afb4-a6e353b80010",
   "metadata": {},
   "outputs": [],
   "source": [
    "abt_train = abt.loc[:end_train]\n",
    "lista_kolumn = abt_train.columns.tolist()\n",
    "lista_kolumn.remove(\"Volume\")\n",
    "lista_kolumn.remove(\"client\")\n",
    "lista_kolumn.remove(\"time_idx\")"
   ]
  },
  {
   "cell_type": "code",
   "execution_count": null,
   "id": "aa7a02bb-6cd3-408e-a5b5-40944216f0df",
   "metadata": {},
   "outputs": [],
   "source": [
    "abt_test = abt.loc[~abt.index.isin(X_train.index)]"
   ]
  },
  {
   "cell_type": "code",
   "execution_count": null,
   "id": "ca502367-f2be-4a53-a2ee-d94d18375cda",
   "metadata": {},
   "outputs": [],
   "source": [
    "max_prediction_length = 7\n",
    "max_encoder_length = 60\n",
    "\n",
    "training = TimeSeriesDataSet(\n",
    "    abt_train,\n",
    "    time_idx=\"time_idx\",\n",
    "    target=\"Volume\",\n",
    "    group_ids= ['client'],\n",
    "    #group_ids=[\"consumer_id\"],\n",
    "    min_encoder_length=max_encoder_length // 2, \n",
    "    max_encoder_length=max_encoder_length,\n",
    "    min_prediction_length=1,\n",
    "    max_prediction_length=max_prediction_length,\n",
    "    #static_categoricals=[\"consumer_id\"],\n",
    "    time_varying_known_reals=lista_kolumn,\n",
    "    #time_varying_unknown_reals=['power_usage'],\n",
    "    #target_normalizer=GroupNormalizer(\n",
    "    #    groups=[\"consumer_id\"], transformation=\"softplus\"),  # we normalize by group\n",
    "    add_relative_time_idx=True,\n",
    "    add_target_scales=True,\n",
    "    add_encoder_length=True,\n",
    "    allow_missing_timesteps=True\n",
    ")\n"
   ]
  },
  {
   "cell_type": "code",
   "execution_count": null,
   "id": "e42de952-5003-49c7-9012-02730f8536d5",
   "metadata": {},
   "outputs": [],
   "source": [
    "abt_test = abt_test.fillna(0)\n",
    "\n",
    "validation = TimeSeriesDataSet(\n",
    "    abt_test,\n",
    "    time_idx=\"time_idx\",\n",
    "    target=\"Volume\",\n",
    "    group_ids= ['client'],\n",
    "    #group_ids=[\"consumer_id\"],\n",
    "    min_encoder_length=max_encoder_length // 2, \n",
    "    max_encoder_length=max_encoder_length,\n",
    "    min_prediction_length=1,\n",
    "    max_prediction_length=max_prediction_length,\n",
    "    #static_categoricals=[\"consumer_id\"],\n",
    "    time_varying_known_reals=lista_kolumn,\n",
    "    #time_varying_unknown_reals=['power_usage'],\n",
    "    #target_normalizer=GroupNormalizer(\n",
    "    #    groups=[\"consumer_id\"], transformation=\"softplus\"),  # we normalize by group\n",
    "    add_relative_time_idx=True,\n",
    "    add_target_scales=True,\n",
    "    add_encoder_length=True,\n",
    "    allow_missing_timesteps=True\n",
    ")"
   ]
  },
  {
   "cell_type": "code",
   "execution_count": null,
   "id": "4e04dbe7-5011-430d-815b-322a0aa18915",
   "metadata": {},
   "outputs": [],
   "source": [
    "batch_size = 300\n",
    "train_dataloader = training.to_dataloader(train=True, batch_size=batch_size, num_workers=0)\n",
    "val_dataloader = validation.to_dataloader(train=False, batch_size=batch_size * 10, num_workers=0)"
   ]
  },
  {
   "cell_type": "code",
   "execution_count": null,
   "id": "f97b2f1d-a9bb-4732-81da-cc0a18298327",
   "metadata": {},
   "outputs": [],
   "source": [
    "import torch\n",
    "from pytorch_forecasting import Baseline\n",
    "\n",
    "actuals = torch.cat([y for x, (y, weight) in iter(val_dataloader)])\n",
    "baseline_predictions = Baseline().predict(val_dataloader)\n",
    "(actuals - baseline_predictions).abs().mean().item()"
   ]
  },
  {
   "cell_type": "code",
   "execution_count": null,
   "id": "bb9aa7cc-5da6-4bc3-8f3d-97323d7a9276",
   "metadata": {},
   "outputs": [],
   "source": [
    "from lightning.pytorch.callbacks import EarlyStopping, LearningRateMonitor\n",
    "from lightning.pytorch.loggers import TensorBoardLogger\n",
    "import lightning.pytorch as pl\n",
    "from pytorch_forecasting import TemporalFusionTransformer\n",
    "from pytorch_forecasting.metrics import MAE, SMAPE, PoissonLoss, QuantileLoss\n",
    "\n",
    "early_stop_callback = EarlyStopping(monitor=\"val_loss\", min_delta=1e-4, patience=5, verbose=True, mode=\"min\")\n",
    "lr_logger = LearningRateMonitor()  \n",
    "logger = TensorBoardLogger(\"lightning_logs\")  \n",
    "\n",
    "trainer = pl.Trainer(\n",
    "    max_epochs=45,\n",
    "    accelerator='cpu', \n",
    "    devices=1,\n",
    "    enable_model_summary=True,\n",
    "    gradient_clip_val=0.1,\n",
    "    callbacks=[lr_logger, early_stop_callback],\n",
    "    logger=logger)\n",
    "\n",
    "tft = TemporalFusionTransformer.from_dataset(\n",
    "    training,\n",
    "    learning_rate=0.001,\n",
    "    hidden_size=160,\n",
    "    attention_head_size=4,\n",
    "    dropout=0.1,\n",
    "    hidden_continuous_size=160,\n",
    "    output_size=7,  # there are 7 quantiles by default: [0.02, 0.1, 0.25, 0.5, 0.75, 0.9, 0.98]\n",
    "    loss=QuantileLoss(),\n",
    "    log_interval=10, \n",
    "    reduce_on_plateau_patience=4)"
   ]
  },
  {
   "cell_type": "code",
   "execution_count": null,
   "id": "9d04cc7d-77c2-4f03-b024-8c8388249594",
   "metadata": {},
   "outputs": [],
   "source": [
    "trainer.fit(\n",
    "    tft,\n",
    "    train_dataloaders=train_dataloader,\n",
    "    val_dataloaders=val_dataloader)"
   ]
  },
  {
   "cell_type": "code",
   "execution_count": null,
   "id": "1b98e3ef-1df3-4072-ae9e-e8af1b6814c4",
   "metadata": {},
   "outputs": [],
   "source": []
  }
 ],
 "metadata": {
  "kernelspec": {
   "display_name": "anaconda-panel-2023.05-py310",
   "language": "python",
   "name": "conda-env-anaconda-panel-2023.05-py310-py"
  },
  "language_info": {
   "codemirror_mode": {
    "name": "ipython",
    "version": 3
   },
   "file_extension": ".py",
   "mimetype": "text/x-python",
   "name": "python",
   "nbconvert_exporter": "python",
   "pygments_lexer": "ipython3",
   "version": "3.11.5"
  }
 },
 "nbformat": 4,
 "nbformat_minor": 5
}
